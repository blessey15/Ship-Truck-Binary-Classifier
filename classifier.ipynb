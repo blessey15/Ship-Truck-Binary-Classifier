{
  "nbformat": 4,
  "nbformat_minor": 0,
  "metadata": {
    "colab": {
      "name": "classifier.ipynb",
      "provenance": [],
      "collapsed_sections": [],
      "authorship_tag": "ABX9TyPSEtSz3khVPe4Q6Z8jz2kN",
      "include_colab_link": true
    },
    "kernelspec": {
      "display_name": "Python 3",
      "name": "python3"
    },
    "language_info": {
      "name": "python"
    }
  },
  "cells": [
    {
      "cell_type": "markdown",
      "metadata": {
        "id": "view-in-github",
        "colab_type": "text"
      },
      "source": [
        "<a href=\"https://colab.research.google.com/github/blessey15/Ship-Truck-Binary-Classifier/blob/main/classifier.ipynb\" target=\"_parent\"><img src=\"https://colab.research.google.com/assets/colab-badge.svg\" alt=\"Open In Colab\"/></a>"
      ]
    },
    {
      "cell_type": "code",
      "metadata": {
        "colab": {
          "base_uri": "https://localhost:8080/"
        },
        "id": "BKONx7zExuZX",
        "outputId": "50b1e205-b75c-42a6-dde1-365ac99a4c47"
      },
      "source": [
        "from google.colab import drive\n",
        "\n",
        "drive.mount('/content/gdrive')"
      ],
      "execution_count": 1,
      "outputs": [
        {
          "output_type": "stream",
          "text": [
            "Mounted at /content/gdrive\n"
          ],
          "name": "stdout"
        }
      ]
    },
    {
      "cell_type": "code",
      "metadata": {
        "colab": {
          "base_uri": "https://localhost:8080/"
        },
        "id": "gZ5rQDBvycHl",
        "outputId": "45e521b6-a2e9-4324-96db-e01393ae377e"
      },
      "source": [
        "cd /content/gdrive/MyDrive/Binary_Classifier"
      ],
      "execution_count": 2,
      "outputs": [
        {
          "output_type": "stream",
          "text": [
            "/content/gdrive/MyDrive/Binary_Classifier\n"
          ],
          "name": "stdout"
        }
      ]
    },
    {
      "cell_type": "code",
      "metadata": {
        "id": "0pkqIyfwz1Ec"
      },
      "source": [
        "%tensorflow_version 2.x"
      ],
      "execution_count": 3,
      "outputs": []
    },
    {
      "cell_type": "code",
      "metadata": {
        "colab": {
          "base_uri": "https://localhost:8080/"
        },
        "id": "JjU8dPRLz_JE",
        "outputId": "530d6555-cb26-4239-f185-61df496e2e99"
      },
      "source": [
        "import tensorflow as tf\n",
        "print(tf.__version__)"
      ],
      "execution_count": 4,
      "outputs": [
        {
          "output_type": "stream",
          "text": [
            "2.5.0\n"
          ],
          "name": "stdout"
        }
      ]
    },
    {
      "cell_type": "code",
      "metadata": {
        "id": "aQw-aUgt0Ym8"
      },
      "source": [
        "from tensorflow.keras import datasets, layers, models\n",
        "import numpy as np\n",
        "import matplotlib.pyplot as plt"
      ],
      "execution_count": 5,
      "outputs": []
    },
    {
      "cell_type": "code",
      "metadata": {
        "colab": {
          "base_uri": "https://localhost:8080/"
        },
        "id": "hO9JjIgG2ygM",
        "outputId": "4a15f087-32ee-4edd-e0c7-18095bcd6f64"
      },
      "source": [
        "(X_train, y_train), (X_test, y_test) = tf.keras.datasets.cifar10.load_data()"
      ],
      "execution_count": 6,
      "outputs": [
        {
          "output_type": "stream",
          "text": [
            "Downloading data from https://www.cs.toronto.edu/~kriz/cifar-10-python.tar.gz\n",
            "170500096/170498071 [==============================] - 11s 0us/step\n"
          ],
          "name": "stdout"
        }
      ]
    },
    {
      "cell_type": "code",
      "metadata": {
        "colab": {
          "base_uri": "https://localhost:8080/"
        },
        "id": "ajA-1-Gn8ySz",
        "outputId": "39280810-a3f9-4986-c318-43bbd3f21b40"
      },
      "source": [
        "X_train.shape"
      ],
      "execution_count": 7,
      "outputs": [
        {
          "output_type": "execute_result",
          "data": {
            "text/plain": [
              "(50000, 32, 32, 3)"
            ]
          },
          "metadata": {
            "tags": []
          },
          "execution_count": 7
        }
      ]
    },
    {
      "cell_type": "code",
      "metadata": {
        "colab": {
          "base_uri": "https://localhost:8080/"
        },
        "id": "eY_6kZYx8-Vi",
        "outputId": "59ac6602-a904-4787-96c6-958faa19e206"
      },
      "source": [
        "X_test.shape"
      ],
      "execution_count": 8,
      "outputs": [
        {
          "output_type": "execute_result",
          "data": {
            "text/plain": [
              "(10000, 32, 32, 3)"
            ]
          },
          "metadata": {
            "tags": []
          },
          "execution_count": 8
        }
      ]
    },
    {
      "cell_type": "code",
      "metadata": {
        "colab": {
          "base_uri": "https://localhost:8080/"
        },
        "id": "RXr40zez9Cei",
        "outputId": "090ea474-3ad2-4bf8-c26d-ba06fcdd5027"
      },
      "source": [
        "y_train.shape"
      ],
      "execution_count": 9,
      "outputs": [
        {
          "output_type": "execute_result",
          "data": {
            "text/plain": [
              "(50000, 1)"
            ]
          },
          "metadata": {
            "tags": []
          },
          "execution_count": 9
        }
      ]
    },
    {
      "cell_type": "code",
      "metadata": {
        "colab": {
          "base_uri": "https://localhost:8080/"
        },
        "id": "kriE2EVgH0Vs",
        "outputId": "d5639e52-1c74-44b5-e1ec-7369217e3181"
      },
      "source": [
        "idx = (np.logical_or(y_train==8, y_train==9)).reshape(X_train.shape[0])\n",
        "print('Index Shape: {}'.format(idx.shape))\n",
        "X_train = X_train[idx]\n",
        "y_train= y_train[idx]\n",
        "print('Filtered Images Shape: {}'.format(X_train.shape))"
      ],
      "execution_count": 10,
      "outputs": [
        {
          "output_type": "stream",
          "text": [
            "Index Shape: (50000,)\n",
            "Filtered Images Shape: (10000, 32, 32, 3)\n"
          ],
          "name": "stdout"
        }
      ]
    },
    {
      "cell_type": "code",
      "metadata": {
        "colab": {
          "base_uri": "https://localhost:8080/"
        },
        "id": "enNokMdxDLue",
        "outputId": "53e994d9-2f4d-415b-b390-68a25b068c59"
      },
      "source": [
        "y_train[:5]"
      ],
      "execution_count": 11,
      "outputs": [
        {
          "output_type": "execute_result",
          "data": {
            "text/plain": [
              "array([[9],\n",
              "       [9],\n",
              "       [8],\n",
              "       [9],\n",
              "       [9]], dtype=uint8)"
            ]
          },
          "metadata": {
            "tags": []
          },
          "execution_count": 11
        }
      ]
    },
    {
      "cell_type": "code",
      "metadata": {
        "colab": {
          "base_uri": "https://localhost:8080/"
        },
        "id": "0XbBQmtiJuDs",
        "outputId": "520c1207-c33a-4970-e015-a52d7a093fee"
      },
      "source": [
        "y_train = y_train.reshape(-1,)\n",
        "y_train[:5]"
      ],
      "execution_count": 12,
      "outputs": [
        {
          "output_type": "execute_result",
          "data": {
            "text/plain": [
              "array([9, 9, 8, 9, 9], dtype=uint8)"
            ]
          },
          "metadata": {
            "tags": []
          },
          "execution_count": 12
        }
      ]
    },
    {
      "cell_type": "code",
      "metadata": {
        "colab": {
          "base_uri": "https://localhost:8080/"
        },
        "id": "otq5UKjBMUxR",
        "outputId": "a44c9a21-9131-4c5f-ee7e-44f04e417008"
      },
      "source": [
        "idx = (np.logical_or(y_test==8, y_test==9)).reshape(X_test.shape[0])\n",
        "print('Index Shape: {}'.format(idx.shape))\n",
        "X_test = X_test[idx]\n",
        "y_test= y_test[idx]\n",
        "print('Filtered Images Shape: {}'.format(X_test.shape))"
      ],
      "execution_count": 13,
      "outputs": [
        {
          "output_type": "stream",
          "text": [
            "Index Shape: (10000,)\n",
            "Filtered Images Shape: (2000, 32, 32, 3)\n"
          ],
          "name": "stdout"
        }
      ]
    },
    {
      "cell_type": "code",
      "metadata": {
        "id": "ez0s1laeJwJS"
      },
      "source": [
        "y_test = y_test.reshape(-1,)"
      ],
      "execution_count": 14,
      "outputs": []
    },
    {
      "cell_type": "code",
      "metadata": {
        "id": "Bj7R8qvvDpEJ"
      },
      "source": [
        "classes=[\"ship\",\"truck\"]\n",
        "dic={8 : 'ship', 9 : 'truck'}"
      ],
      "execution_count": 15,
      "outputs": []
    },
    {
      "cell_type": "code",
      "metadata": {
        "id": "ve4-SiQsDybL"
      },
      "source": [
        "def plot_sample(X, y, index):\n",
        "    plt.figure(figsize = (15,2))\n",
        "    plt.imshow(X[index])\n",
        "    if y[index]==8:\n",
        "      i=0\n",
        "    else:\n",
        "      i=1  \n",
        "    plt.xlabel(classes[i])"
      ],
      "execution_count": 16,
      "outputs": []
    },
    {
      "cell_type": "code",
      "metadata": {
        "colab": {
          "base_uri": "https://localhost:8080/",
          "height": 173
        },
        "id": "I4GXTUD5D5WK",
        "outputId": "f2cff360-0a38-4de6-dc66-f659dcd02ca3"
      },
      "source": [
        "plot_sample(X_train, y_train, 0)"
      ],
      "execution_count": 17,
      "outputs": [
        {
          "output_type": "display_data",
          "data": {
            "image/png": "[encoded data removed]",
            "text/plain": [
              "<Figure size 1080x144 with 1 Axes>"
            ]
          },
          "metadata": {
            "tags": [],
            "needs_background": "light"
          }
        }
      ]
    },
    {
      "cell_type": "code",
      "metadata": {
        "colab": {
          "base_uri": "https://localhost:8080/",
          "height": 173
        },
        "id": "Bax4LkkuKP3R",
        "outputId": "fdc0c859-e239-47e5-8699-7288539067a3"
      },
      "source": [
        "plot_sample(X_train, y_train, 2)"
      ],
      "execution_count": 18,
      "outputs": [
        {
          "output_type": "display_data",
          "data": {
            "image/png": "[encoded data removed]",
            "text/plain": [
              "<Figure size 1080x144 with 1 Axes>"
            ]
          },
          "metadata": {
            "tags": [],
            "needs_background": "light"
          }
        }
      ]
    },
    {
      "cell_type": "code",
      "metadata": {
        "colab": {
          "base_uri": "https://localhost:8080/"
        },
        "id": "5QG0vH__KXD7",
        "outputId": "4486aef7-5454-4a56-e0a6-8782f99d51d7"
      },
      "source": [
        "idx = (np.logical_or(y_test==8, y_test==9)).reshape(X_test.shape[0])\n",
        "print('Index Shape: {}'.format(idx.shape))\n",
        "X_test = X_test[idx]\n",
        "y_test= y_test[idx]\n",
        "print('Filtered Images Shape: {}'.format(X_test.shape))"
      ],
      "execution_count": 19,
      "outputs": [
        {
          "output_type": "stream",
          "text": [
            "Index Shape: (2000,)\n",
            "Filtered Images Shape: (2000, 32, 32, 3)\n"
          ],
          "name": "stdout"
        }
      ]
    },
    {
      "cell_type": "code",
      "metadata": {
        "id": "eyehOAgcMidL"
      },
      "source": [
        "X_train = X_train / 255.0\n",
        "X_test = X_test / 255.0"
      ],
      "execution_count": 20,
      "outputs": []
    },
    {
      "cell_type": "code",
      "metadata": {
        "id": "KeYHV8baMltR"
      },
      "source": [
        "cnn = models.Sequential([\n",
        "    layers.Conv2D(filters=32, kernel_size=(3, 3), activation='relu', input_shape=(32, 32, 3)),\n",
        "    layers.MaxPooling2D((2, 2)),\n",
        "    \n",
        "    layers.Conv2D(filters=64, kernel_size=(3, 3), activation='relu'),\n",
        "    layers.MaxPooling2D((2, 2)),\n",
        "    \n",
        "    layers.Flatten(),\n",
        "    layers.Dense(64, activation='relu'),\n",
        "    layers.Dense(10, activation='softmax')\n",
        "])"
      ],
      "execution_count": 21,
      "outputs": []
    },
    {
      "cell_type": "code",
      "metadata": {
        "id": "pe4X8oHa_CDN"
      },
      "source": [
        "cnn.compile(optimizer='adam',\n",
        "              loss='sparse_categorical_crossentropy',\n",
        "              metrics=['accuracy'])"
      ],
      "execution_count": 22,
      "outputs": []
    },
    {
      "cell_type": "code",
      "metadata": {
        "id": "Bnh6-0FJ7v4l",
        "colab": {
          "base_uri": "https://localhost:8080/"
        },
        "outputId": "04913f75-b793-4b20-fcf7-0c4204f16850"
      },
      "source": [
        "cnn.fit(X_train, y_train, epochs=10)"
      ],
      "execution_count": 23,
      "outputs": [
        {
          "output_type": "stream",
          "text": [
            "Epoch 1/10\n",
            "313/313 [==============================] - 14s 41ms/step - loss: 0.4297 - accuracy: 0.8066\n",
            "Epoch 2/10\n",
            "313/313 [==============================] - 13s 41ms/step - loss: 0.2647 - accuracy: 0.8933\n",
            "Epoch 3/10\n",
            "313/313 [==============================] - 13s 40ms/step - loss: 0.2224 - accuracy: 0.9106\n",
            "Epoch 4/10\n",
            "313/313 [==============================] - 13s 41ms/step - loss: 0.1933 - accuracy: 0.9247\n",
            "Epoch 5/10\n",
            "313/313 [==============================] - 13s 41ms/step - loss: 0.1750 - accuracy: 0.9300\n",
            "Epoch 6/10\n",
            "313/313 [==============================] - 13s 41ms/step - loss: 0.1550 - accuracy: 0.9400\n",
            "Epoch 7/10\n",
            "313/313 [==============================] - 13s 41ms/step - loss: 0.1524 - accuracy: 0.9387\n",
            "Epoch 8/10\n",
            "313/313 [==============================] - 13s 40ms/step - loss: 0.1312 - accuracy: 0.9500\n",
            "Epoch 9/10\n",
            "313/313 [==============================] - 13s 40ms/step - loss: 0.1225 - accuracy: 0.9507\n",
            "Epoch 10/10\n",
            "313/313 [==============================] - 13s 40ms/step - loss: 0.1103 - accuracy: 0.9591\n"
          ],
          "name": "stdout"
        },
        {
          "output_type": "execute_result",
          "data": {
            "text/plain": [
              "<tensorflow.python.keras.callbacks.History at 0x7fedb2245fd0>"
            ]
          },
          "metadata": {
            "tags": []
          },
          "execution_count": 23
        }
      ]
    },
    {
      "cell_type": "code",
      "metadata": {
        "colab": {
          "base_uri": "https://localhost:8080/"
        },
        "id": "EXR0CRnb_IEQ",
        "outputId": "17175952-f7d0-4924-8cf2-80308442e39f"
      },
      "source": [
        "cnn.evaluate(X_test,y_test)"
      ],
      "execution_count": 24,
      "outputs": [
        {
          "output_type": "stream",
          "text": [
            "63/63 [==============================] - 1s 12ms/step - loss: 0.1708 - accuracy: 0.9355\n"
          ],
          "name": "stdout"
        },
        {
          "output_type": "execute_result",
          "data": {
            "text/plain": [
              "[0.17080016434192657, 0.9355000257492065]"
            ]
          },
          "metadata": {
            "tags": []
          },
          "execution_count": 24
        }
      ]
    },
    {
      "cell_type": "code",
      "metadata": {
        "colab": {
          "base_uri": "https://localhost:8080/"
        },
        "id": "A48jbbWx_LOM",
        "outputId": "66ff782b-ffc7-418b-eb3e-e3bf94a60174"
      },
      "source": [
        "y_pred = cnn.predict(X_test)\n",
        "y_pred[:5]"
      ],
      "execution_count": 25,
      "outputs": [
        {
          "output_type": "execute_result",
          "data": {
            "text/plain": [
              "array([[1.13678155e-07, 2.91564834e-08, 6.08864852e-08, 3.74162532e-08,\n",
              "        7.75236160e-08, 5.68814009e-08, 2.02425667e-07, 6.09051867e-08,\n",
              "        9.94200706e-01, 5.79877244e-03],\n",
              "       [1.44401827e-06, 9.53055292e-07, 1.81682367e-06, 7.36840548e-07,\n",
              "        1.20389723e-06, 1.12907082e-06, 2.86297904e-06, 8.32861360e-07,\n",
              "        9.14936662e-01, 8.50523263e-02],\n",
              "       [1.09979366e-10, 5.79322090e-10, 2.32880626e-09, 1.15007927e-10,\n",
              "        4.24896562e-10, 1.52174010e-10, 6.12395135e-10, 2.60237734e-11,\n",
              "        6.38236990e-04, 9.99361813e-01],\n",
              "       [5.32087308e-09, 9.28190058e-09, 2.69244396e-08, 2.49524668e-09,\n",
              "        1.50478616e-08, 2.05089434e-09, 1.94202645e-08, 1.36493206e-09,\n",
              "        8.56593996e-02, 9.14340496e-01],\n",
              "       [1.42019360e-07, 5.19670280e-08, 1.12497304e-07, 6.38330633e-08,\n",
              "        1.69810150e-07, 5.65020670e-08, 2.56539465e-07, 1.16989732e-07,\n",
              "        9.97263908e-01, 2.73515843e-03]], dtype=float32)"
            ]
          },
          "metadata": {
            "tags": []
          },
          "execution_count": 25
        }
      ]
    },
    {
      "cell_type": "code",
      "metadata": {
        "colab": {
          "base_uri": "https://localhost:8080/"
        },
        "id": "POUVF7EZMq8x",
        "outputId": "5512b4e1-67f1-4078-e21c-23e58b963259"
      },
      "source": [
        "y_classes = [np.argmax(element) for element in y_pred]\n",
        "y_classes[:5]"
      ],
      "execution_count": 26,
      "outputs": [
        {
          "output_type": "execute_result",
          "data": {
            "text/plain": [
              "[8, 8, 9, 9, 8]"
            ]
          },
          "metadata": {
            "tags": []
          },
          "execution_count": 26
        }
      ]
    },
    {
      "cell_type": "code",
      "metadata": {
        "colab": {
          "base_uri": "https://localhost:8080/"
        },
        "id": "hwu70FIvMuoN",
        "outputId": "dff286bf-f716-4a78-c496-b6421610ac2c"
      },
      "source": [
        "y_test[:5]"
      ],
      "execution_count": 27,
      "outputs": [
        {
          "output_type": "execute_result",
          "data": {
            "text/plain": [
              "array([8, 8, 9, 9, 8], dtype=uint8)"
            ]
          },
          "metadata": {
            "tags": []
          },
          "execution_count": 27
        }
      ]
    },
    {
      "cell_type": "code",
      "metadata": {
        "colab": {
          "base_uri": "https://localhost:8080/",
          "height": 173
        },
        "id": "p4xKLbi2M3zw",
        "outputId": "efaa3188-a5b9-4d4f-8511-e80e33b766e9"
      },
      "source": [
        "plot_sample(X_test, y_test,3)"
      ],
      "execution_count": 28,
      "outputs": [
        {
          "output_type": "display_data",
          "data": {
            "image/png": "[encoded data removed]",
            "text/plain": [
              "<Figure size 1080x144 with 1 Axes>"
            ]
          },
          "metadata": {
            "tags": [],
            "needs_background": "light"
          }
        }
      ]
    },
    {
      "cell_type": "code",
      "metadata": {
        "colab": {
          "base_uri": "https://localhost:8080/",
          "height": 35
        },
        "id": "zR0t3dINM4ot",
        "outputId": "aa1239f6-db9e-4aaa-a2a4-9e70b3e1b2f8"
      },
      "source": [
        "dic[y_classes[3]]"
      ],
      "execution_count": 29,
      "outputs": [
        {
          "output_type": "execute_result",
          "data": {
            "application/vnd.google.colaboratory.intrinsic+json": {
              "type": "string"
            },
            "text/plain": [
              "'truck'"
            ]
          },
          "metadata": {
            "tags": []
          },
          "execution_count": 29
        }
      ]
    },
    {
      "cell_type": "code",
      "metadata": {
        "colab": {
          "base_uri": "https://localhost:8080/",
          "height": 173
        },
        "id": "LVtVhasXUvyH",
        "outputId": "7573b877-4833-46dd-f73e-f3aa680825dd"
      },
      "source": [
        "plot_sample(X_test, y_test,0)"
      ],
      "execution_count": 31,
      "outputs": [
        {
          "output_type": "display_data",
          "data": {
            "image/png": "[encoded data removed]",
            "text/plain": [
              "<Figure size 1080x144 with 1 Axes>"
            ]
          },
          "metadata": {
            "tags": [],
            "needs_background": "light"
          }
        }
      ]
    },
    {
      "cell_type": "code",
      "metadata": {
        "colab": {
          "base_uri": "https://localhost:8080/",
          "height": 35
        },
        "id": "JW4W8jgDU3F_",
        "outputId": "3ea2c412-087d-4d04-b881-89e8d567d332"
      },
      "source": [
        "dic[y_classes[0]]"
      ],
      "execution_count": 32,
      "outputs": [
        {
          "output_type": "execute_result",
          "data": {
            "application/vnd.google.colaboratory.intrinsic+json": {
              "type": "string"
            },
            "text/plain": [
              "'ship'"
            ]
          },
          "metadata": {
            "tags": []
          },
          "execution_count": 32
        }
      ]
    },
    {
      "cell_type": "code",
      "metadata": {
        "id": "7t7gBMYh_apX"
      },
      "source": [
        "cnn.save('model.h5')\n"
      ],
      "execution_count": 30,
      "outputs": []
    }
  ]
}